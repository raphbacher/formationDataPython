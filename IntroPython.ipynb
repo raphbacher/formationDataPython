{
 "cells": [
  {
   "cell_type": "markdown",
   "metadata": {},
   "source": [
    "# Introduction à Python\n",
    "\n",
    "\n",
    "## Python\n",
    "\n",
    "- Un langage Open Source (et gratuit)\n",
    "- N'est pas lié à un seul environnement de travail : console python, Jupyter, ...\n",
    "- Apparu pour automatiser des tâches de gestion de serveurs.\n",
    "- Maintenant : utilisé pour tout, le web, l'intelligence artificielle etc...\n",
    "- \"Le deuxième meilleur partout\"\n",
    "- Un des plus gros écosystème de librairies\n",
    "\n",
    "\n"
   ]
  },
  {
   "cell_type": "markdown",
   "metadata": {},
   "source": [
    "## Environnement Python\n",
    "\n",
    "- Un peu de console Python\n",
    "- Executer un script\n",
    "- L'interface Jupyter/VSCode"
   ]
  },
  {
   "cell_type": "markdown",
   "metadata": {},
   "source": [
    "## Ecrire du Python\n",
    "\n",
    "Si le texte commence par un # il s'agit d'un commentaire, non lu par l'interpréteur Python mais très pratique pour se rappeler ce qu'on a fait !\n",
    "\n",
    "Attention les espaces en début de ligne (indentation) ont une signification en Python, ils déterminent des blocs."
   ]
  },
  {
   "cell_type": "markdown",
   "metadata": {
    "tags": []
   },
   "source": [
    "## Variables\n",
    "\n",
    "Une variable permet de stocker une valeur.\n",
    "\n",
    "En Python, les noms de variable :\n",
    "\n",
    "  - peuvent inclure des lettres, des chiffres et des underscores\n",
    "  - ne peuvent pas démarrer par un chiffre\n",
    "  - sont sensibles à la casse.\n",
    "\n",
    "\n",
    "### Types de données\n",
    "Python possède de nombreux types de données. Par emple:\n",
    "\n",
    "* Les nombres entiers (int) par ex 60\n",
    "* Les nombres flottants (float) par ex 60.3\n",
    "* Les chaines de caractères (strings) par ex \"soixante\" ou 'soixante'\n",
    "\n",
    "En Python, on ne précise pas le type d'une variable (il la devine grâce à la valeur qu'on lui donne) et un nom de variable peut changer de type lorsqu'il change de valeur.\n",
    "\n",
    "### Opérateurs\n",
    "\n",
    "On peut utiliser des opérateurs +,*,-,/ (et d'autres) entre des variables, ils n'ont pas forcément le même sens selon le type de la variable."
   ]
  },
  {
   "cell_type": "code",
   "execution_count": 4,
   "metadata": {},
   "outputs": [
    {
     "data": {
      "text/plain": [
       "int"
      ]
     },
     "execution_count": 4,
     "metadata": {},
     "output_type": "execute_result"
    }
   ],
   "source": [
    "a = 60\n",
    "type(a)"
   ]
  },
  {
   "cell_type": "code",
   "execution_count": 12,
   "metadata": {},
   "outputs": [],
   "source": [
    "## créez une variable b de type float et la diviser par a\n"
   ]
  },
  {
   "cell_type": "code",
   "execution_count": 7,
   "metadata": {},
   "outputs": [],
   "source": [
    "## Créez deux chaines de caractères prenom et nom, puis concatenez les deux avec l'opération + en enregistrant le resultat dans \n",
    "# une troisième variable identité (sans accent)\n"
   ]
  },
  {
   "cell_type": "code",
   "execution_count": null,
   "metadata": {},
   "outputs": [],
   "source": [
    "## Afficher \"Bonjour\" + votre identité"
   ]
  },
  {
   "cell_type": "markdown",
   "metadata": {},
   "source": [
    "## Conteneurs\n",
    "\n",
    "Les principaux conteneurs de données en Python sont les Dictionnaires et les tableaux.\n",
    "\n",
    "### Les tableaux\n",
    "\n",
    "Un tableau est une liste de plusieurs valeurs. Par exemple [1,2,3]. On peut créer des listes de listes [[1,2,3],['a','b','c']].\n",
    "\n",
    "On peut récupérer une valeur à partir de sa position *i* dans la liste grâce à la syntaxe *nom_de_la_liste[i]*.\n",
    "\n",
    "On peut récupérer des *slices* (sous groupe d'éléments), avec la syntaxe *nom_de_la_liste[5:10]*.\n",
    "\n",
    "### Les Dictionnaires\n",
    "Les dictionnaires sont omniprésents dans les structures internes de Python lui-même. Ils permettent d'utiliser un autre index que la position (et ne stockent pas les données de la même façon dans l'ordinateur).\n",
    "\n",
    "Par ex:\n",
    "    \n",
    "    dictionnaire = dict('a':1,'b':2)"
   ]
  },
  {
   "cell_type": "code",
   "execution_count": 10,
   "metadata": {},
   "outputs": [
    {
     "data": {
      "text/plain": [
       "1"
      ]
     },
     "execution_count": 10,
     "metadata": {},
     "output_type": "execute_result"
    }
   ],
   "source": [
    "dictionnaire = dict({'a':1,'b':2})\n",
    "dictionnaire['a']"
   ]
  },
  {
   "cell_type": "markdown",
   "metadata": {},
   "source": [
    "## Conditions\n",
    "\n",
    "Une condition est exprimée par le bloc *if-elif-else*\n",
    "\n",
    "    if condition:\n",
    "        faire quelque chose\n",
    "    elif alternative:\n",
    "        faire autre chose\n",
    "    else:\n",
    "        sinon faire ceci\n",
    "\n",
    "Une condition va être un booléen (True/False). Pour obtenir un booléen, on utilise les opérateurs de comparaison :\n",
    "- ==\n",
    "- !=\n",
    "- <=\n",
    "- >="
   ]
  },
  {
   "cell_type": "code",
   "execution_count": 11,
   "metadata": {},
   "outputs": [],
   "source": [
    "## Implémenter le résultat d'un Pierre-Feuille-Ciseaux à l'aide d'un bloc if-elif-else en fonction du resultat de \n",
    "# votre adversaire sachant vous avez joué Pierre.\n",
    "\n"
   ]
  },
  {
   "cell_type": "markdown",
   "metadata": {},
   "source": [
    "## Boucles\n",
    "\n",
    "Comment parcourir les éléments d'une liste ?\n",
    "\n",
    "- Boucle For\n",
    "- Boucle While\n",
    "\n",
    "\n",
    "### Boucle For\n",
    "\n",
    "    for i in range(1,10):\n",
    "        println(i)\n",
    "        \n",
    "Notez par quelle valeur finit et commence la boucle.\n",
    "\n",
    "### Boucle While\n",
    "    \n",
    "    i = 0\n",
    "    while i < 10 :\n",
    "        println(i)\n",
    "        i = i + 1\n",
    "\n",
    "Le danger des boucles while : il faut s'assurer qu'elles ne soient pas sans fin !\n",
    "\n",
    "Les boucles ont une syntaxe de bloc, il faut respecter l'indentation."
   ]
  },
  {
   "cell_type": "code",
   "execution_count": null,
   "metadata": {},
   "outputs": [],
   "source": [
    "## Exercice\n",
    "\n",
    "# Une légende de l'Inde ancienne raconte que le jeu d'échecs a été inventé par un vieux sage, que son roi voulut remercier en lui affirmant \n",
    "# qu'il lui accorderait n'importe quel cadeau en récompense. Le vieux sage demanda qu'on lui fournisse simplement un peu de riz pour ses vieux \n",
    "# jours et plus précisément un nombre de grains de riz suffisant pour que l'on puisse en déposer 1 seul sur la première case du jeu qu'il venait\n",
    "# d'inventer, deux sur la suivante, quatre sur la troisième et ainsi de suite jusqu'à la 64e case. \n",
    "# Écrivez un programme Python qui affiche le nombre de grains à déposer sur chacune des 64 cases du jeu. \n"
   ]
  },
  {
   "cell_type": "markdown",
   "metadata": {
    "tags": []
   },
   "source": [
    "## Fonctions\n",
    "\n",
    "Une fonction est un bloc de code qui prend des arguments en entrée et renvoie une ou plusieurs valeurs en sortie.\n",
    "\n",
    "Une fonction s'écrit sous la forme\n",
    "\n",
    "    def ma_fonction(argument1, argument2):\n",
    "        des operations...\n",
    "        return resultat"
   ]
  },
  {
   "cell_type": "code",
   "execution_count": null,
   "metadata": {},
   "outputs": [],
   "source": [
    "## Réécrivez l'exercice des grains de riz avec une fonction qui prend en entrée le nombre de cases et qui renvoit\n",
    "# la somme de tous les grains de riz cumulés."
   ]
  },
  {
   "cell_type": "code",
   "execution_count": 16,
   "metadata": {},
   "outputs": [],
   "source": [
    "## Réécrivez le Pierre-Feuille-Ciseaux sous forme de fonction. \n"
   ]
  },
  {
   "cell_type": "markdown",
   "metadata": {},
   "source": [
    "## Objet/Classe\n",
    "\n",
    "Python est un langage de programmation orienté objet : cela signifie qu’en Python, tout est objet. En programmation, cette notion de groupe ou de catégorie d’objet est appelée une classe. Une classe est en quelque sorte le schéma de construction d’un objet qui va définir les caractéristiques de tous les objets de ce type et leurs fonctionnalités. À partir de cette classe, vous allez pouvoir créer différents modèles d’un objet.\n",
    "\n",
    "Prenons un exemple concret avec une classe Voiture. Le plan d’une voiture peut être défini par :\n",
    "- ses caractéristiques, appelées *attributs* : elle a forcément 4 roues, une couleur, une forme, une puissance moteur, etc. ;\n",
    "- ses fonctionnalités, appelées *méthodes* : elle peut rouler, freiner, etc.\n",
    "\n",
    "Ainsi, à partir de ce plan, vous pouvez créer différents modèles de voiture :\n",
    "- un familiale classique, de couleur verte, de puissance moyenne (110 ch) ;\n",
    "- une voiture de sport, rouge, relativement puissante (180 ch) ;\n",
    "- une petite voiture citadine bleue, peu puissante (90 ch) ;\n",
    "- etc.\n",
    "\n",
    "Et peu importe le modèle de la voiture, elles sont toutes capables de rouler ou freiner, mais pas avec la même performance !\n",
    "\n",
    "En résumé, une classe correspond au plan d’un objet, définissant ses attributs et ses méthodes. À partir d’une même classe, on peut donc créer plusieurs objets d’un même type, mais aux attributs différents : on appelle cela des instances de classe.\n",
    "\n",
    "Comme nous l’avons dit précédemment, en Python, tout est objet. C’est-à-dire que, sans le savoir, depuis le début de ce cours, vous manipulez des objets ! Considérons les lignes de code suivantes pour illustrer cela :\n",
    "\n",
    "    var1 = 14\n",
    "    var2 = 1031\n",
    "\n",
    "Vous avez ici déclaré deux variables nommées var1  et var2, contenant les valeurs 14 et 1.031. En réalité, vous avez créé deux instances de la classe int, deux objets ayant chacun un seul attribut : sa valeur. Il en est de même pour les floats ou les strings : chaque fois que vous créez une variable de l’un de ces types, vous créez en réalité des objets en Python ayant pour attribut la valeur que vous leur assignez.\n",
    "\n",
    "Nous avons parlé jusque là des attributs, il est temps à présent de voir à quoi correspondent les méthodes. Une méthode de classe est une fonction qui n’est disponible que pour les différentes instances de cette classe. Si par exemple on considère la classe Voiture présentée ci-dessus ayant une méthode rouler(), et une classe Avion ayant pour méthode voler(), vous conviendrez assez logiquement qu’un avion ne peut pas rouler et une voiture voler. Il en va de même pour nos différents objets !\n",
    "\n",
    "L’utilisation d’une méthode est toujours réalisée via la notation  nomVariable.méthode(). Par exemple, les strings ont une méthode appelée  lower()  qui va transformer l’ensemble du texte contenu dans un objet, en minuscules. \n",
    "\n",
    "### Création d'une nouvelle classe\n",
    "Une classe se crée avec la syntaxe\n",
    "\n",
    "    class NomClasse():\n",
    "        def __init__(self,attribut1):\n",
    "            attribut1 = attribut1\n",
    "            \n",
    "        def method1(self,argument1):\n",
    "            blabla\n",
    "            \n",
    "La première méthode *\\__init__* est appelée un constructeur, c'est elle qui est utilisée lorsqu'on veut créer une instance\n",
    "de la classe. Toutes les methodes contiennent comme premier argument *self* qui permet de référencer l'objet dans lequel on se \"trouve\".\n",
    "Pour créer une instance de la classe il suffit de faire\n",
    "\n",
    "    instance = NomClasse(attribut1)\n",
    "    \n",
    "Puis on peut appeler la méthode par \n",
    "\n",
    "    instance.method1(argument1)\n",
    "\n",
    "On voit qu'on a pas indiquer le *self* mais directement l'argument1"
   ]
  },
  {
   "cell_type": "code",
   "execution_count": 13,
   "metadata": {},
   "outputs": [],
   "source": [
    "## Créez une classe Odeur qui contient une signature (une liste de nombres) et un nom d'odeur (une chaîne de caractères) puis générez une instance (une odeur)"
   ]
  },
  {
   "cell_type": "code",
   "execution_count": null,
   "metadata": {},
   "outputs": [],
   "source": [
    "## Ajoutez une méthode à la classe Odeur pour afficher la signature."
   ]
  },
  {
   "cell_type": "markdown",
   "metadata": {
    "tags": []
   },
   "source": [
    "## Trucs et Astuces\n",
    "\n",
    "- Pour éviter les erreurs classiques :\n",
    "    - Les listes commencent à 0 en Python\n",
    "    - Penser au *:* à la fin d'une ligne *def*, *for/while* ou *if*\n",
    "    - Attention à l'indentation (la plupart des éditeurs de code vous aideront)\n",
    "\n",
    "    \n",
    "- Ne pas avoir peur des messages d'erreur (il sont là pour vous aider !)\n",
    "\n",
    "- Dans Jupyter/Ipython, utiliser l'aide intégrée :\n",
    "    - commande?\n",
    "    - Autocomplétion avec Tab\n",
    "    - fonction( Alt + Tab)"
   ]
  },
  {
   "cell_type": "markdown",
   "metadata": {},
   "source": [
    "## Petite mise en pratique : l'effet Monty Hall\n",
    "\n",
    "L'exposé du problème est plutôt simple. Imaginez un jeu télévisé où il y a trois portes sur le plateau de jeu. Seule une de ces portes cache un trésor. Il n'y a rien derrière les deux autres portes. Rien ne permet de savoir quelle porte cache le trésor.\n",
    "\n",
    "La tâche du joueur consiste à choisir parmi les trois portes celle qu'il veut ouvrir. Il aura droit au trésor s'il choisit la bonne porte, et rien sinon. Pour faire son choix, il n'a aucune information. Il doit donc simplement s'en remettre au hasard.\n",
    "\n",
    "Jusqu'ici, le problème n'a rien de remarquable. Mais il y a un twist ! Une fois que le joueur a fait son choix, mais avant d'ouvrir la porte, le présentateur élimine, parmi les deux portes non choisies, une porte qui ne contient pas de trésor. Si les deux portes restantes ne contiennent rien, le présentateur élimine simplement une d'entre elles au hasard.\n",
    "\n",
    "Le joueur doit alors faire un nouveau choix. Il peut soit choisir d'ouvrir la première porte qu'il avait choisie, soit changer pour la porte non éliminée par le présentateur. La question est, qu'a-t-il intérêt à faire ? "
   ]
  },
  {
   "cell_type": "markdown",
   "metadata": {},
   "source": [
    "### Génération d'une seule partie de jeu\n",
    "\n",
    "Nous allons commencer par écrire une fonction qui génère une partie du jeu. Cette fonction choisit aléatoirement une porte parmi les trois pour y cacher le trésor. Elle choisit ensuite aléatoirement le premier choix du participant, et élimine une des deux portes restantes. Ensuite, une nouvelle porte est choisie selon la stratégie adoptée par le joueur :\n",
    "\n",
    "- Changer de porte\n",
    "- Ne pas changer de porte\n",
    "\n",
    "Enfin, le gain du participant est calculé.\n",
    "\n",
    "#### Pour vous aider : \n",
    "Pour faire des tirages aléatoires, vous pouvez utiliser la fonction *randint* du module *random*.\n",
    "\n",
    "Pour l'importer \n",
    "\n",
    "    from random import randint\n",
    "\n",
    "Vérifier le fonctionnement de randint à l'aide de *randint?*\n",
    "\n",
    "### Deuxième étape : simuler plusieurs parties\n",
    "\n",
    "Nous allons définir une fonction qui lancera le jeu autant de fois que nous le souhaitons, et retournera le résultat de chaque partie dans une  list. Pour pouvoir exécuter des calculs sur ces résultats, nous allons aussi les stocker non plus comme des variables booléennes (Vrai ou Faux) mais en terme du gain du joueur (1 s'il a gagné, 0 s'il a perdu).\n",
    "\n",
    "### Analyse des résultats\n",
    "\n",
    "La première chose à faire est de savoir, pour un nombre de parties donné (disons, 10000), quelle stratégie rapporte le plus au joueur. Nous avons une liste contenant autant de 1 que de nombre de parties gagnées par le joueur. Il nous suffit de calculer la somme de tous les éléments de cette liste, avec la fonction  *sum*, pour connaître le nombre de 1."
   ]
  },
  {
   "cell_type": "code",
   "execution_count": 5,
   "metadata": {},
   "outputs": [],
   "source": []
  },
  {
   "cell_type": "markdown",
   "metadata": {
    "tags": []
   },
   "source": [
    "### Liens utiles pour réviser/aller plus loin\n",
    "\n",
    "- https://courspython.com/\n",
    "- https://openclassrooms.com/fr/courses/6204541-initiez-vous-a-python-pour-lanalyse-de-donnees"
   ]
  }
 ],
 "metadata": {
  "kernelspec": {
   "display_name": "Python 3 (ipykernel)",
   "language": "python",
   "name": "python3"
  },
  "language_info": {
   "codemirror_mode": {
    "name": "ipython",
    "version": 3
   },
   "file_extension": ".py",
   "mimetype": "text/x-python",
   "name": "python",
   "nbconvert_exporter": "python",
   "pygments_lexer": "ipython3",
   "version": "3.9.7"
  }
 },
 "nbformat": 4,
 "nbformat_minor": 5
}